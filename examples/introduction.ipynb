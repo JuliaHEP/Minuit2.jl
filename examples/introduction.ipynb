{
 "cells": [
  {
   "cell_type": "markdown",
   "metadata": {},
   "source": [
    "# Introduction to Minuit2.jl\n",
    "\n",
    "This tutorial is based in the `iminuit` introduction [tutorial](https://indico.cern.ch/event/833895/contributions/3577808/attachments/1927550/3191336/iminuit_intro.html)\n",
    "It is a simple example that shows how to interact with the Minuit2 classes."
   ]
  },
  {
   "cell_type": "markdown",
   "metadata": {},
   "source": [
    "## Loading the necessary Julia modules\n",
    "Load the `Minuit2` module.\n",
    "We will also use the `Polynomials` and `Plots` modules to define cost functions\n",
    "display results."
   ]
  },
  {
   "cell_type": "code",
   "execution_count": 21,
   "metadata": {},
   "outputs": [],
   "source": [
    "using Minuit2\n",
    "using Polynomials\n",
    "using FHist\n",
    "using Plots"
   ]
  },
  {
   "cell_type": "markdown",
   "metadata": {},
   "source": [
    "## Define some data to fit\n",
    "We generate some data points that follow a linear model with some noise."
   ]
  },
  {
   "cell_type": "code",
   "execution_count": null,
   "metadata": {},
   "outputs": [],
   "source": [
    "# let's make a line model\n",
    "line(x, a, b) = a + x * b\n",
    "\n",
    "a_true = 1.0\n",
    "b_true = 2.0\n",
    "\n",
    "# let's make some data\n",
    "x = range(0, 1., 10)\n",
    "\n",
    "# precomputed random numbers from standard normal distribution\n",
    "z = [-0.49783783, -0.33041722, -1.71800806,  1.60229399,\n",
    "      1.36682387, -1.15424221, -0.91425267, -0.03395604,\n",
    "      -1.27611719, -0.7004073 ]\n",
    "\n",
    "sigma_y = 0.1\n",
    "y = line.(x, a_true, b_true) + sigma_y * z\n",
    "\n",
    "# Plot with error bars\n",
    "plot(x, y, yerr=sigma_y, seriestype=:scatter)"
   ]
  },
  {
   "cell_type": "markdown",
   "metadata": {},
   "source": [
    "- Want to estimate parameters (𝑎,𝑏) of line model from data\n",
    "- Need a `score`` which is minimal when model best agrees with data\n",
    "    - Sum of residuals squared (least-squares method)\n",
    "    - Negated sum of log-likelihood values (maximum-likelihood method)\n",
    "- MINUIT always minimizes; negate score function to maximize\n",
    "- Use `Minuit2` to numerically minimize score as function of model parameters\n",
    "\n",
    "## Define a cost function\n",
    "We will use the least squares method to define the cost function.\n",
    "The cost function is the sum of the residuals squared."
   ]
  },
  {
   "cell_type": "code",
   "execution_count": null,
   "metadata": {},
   "outputs": [],
   "source": [
    "LSQ(a, b) = sum((y - line.(x, a, b)) .^ 2 ./ sigma_y .^ 2)"
   ]
  },
  {
   "cell_type": "markdown",
   "metadata": {},
   "source": [
    "## Create a Minuit object\n",
    "Create a `Minuit` object with the cost function and initial parameter values.\n",
    "We fix the parameter `a` to an arbitrary value on this first attempt."
   ]
  },
  {
   "cell_type": "code",
   "execution_count": null,
   "metadata": {},
   "outputs": [],
   "source": [
    "m = Minuit(LSQ; a=2, b=5, fix_a=true,\n",
    "                error_a=0.1, error_b=0.1,\n",
    "                errordef=1)"
   ]
  },
  {
   "cell_type": "markdown",
   "metadata": {},
   "source": [
    "## Minimize the cost function\n",
    "Minimize the cost function using the `migrad` method"
   ]
  },
  {
   "cell_type": "code",
   "execution_count": null,
   "metadata": {},
   "outputs": [],
   "source": [
    "migrad!(m)"
   ]
  },
  {
   "cell_type": "markdown",
   "metadata": {},
   "source": [
    "Plot the data and the fitted line"
   ]
  },
  {
   "cell_type": "code",
   "execution_count": null,
   "metadata": {},
   "outputs": [],
   "source": [
    "# get parameter values\n",
    "a_fit, b_fit = m.values\n",
    "\n",
    "# Plot with error bars\n",
    "plot(x, y, yerr=sigma_y, seriestype=:scatter)\n",
    "plot!(x, line.(x, a_fit, b_fit))"
   ]
  },
  {
   "cell_type": "markdown",
   "metadata": {},
   "source": [
    "Lets change the initial value of `a` and `b` and run `migrad` again"
   ]
  },
  {
   "cell_type": "code",
   "execution_count": null,
   "metadata": {},
   "outputs": [],
   "source": [
    "m = Minuit(LSQ; a=5, b=5, error_a=0.1, error_b=0.1,\n",
    "                limit_a=(0, Inf), limit_b=(0, 10.), errordef=1)\n",
    "migrad!(m)"
   ]
  },
  {
   "cell_type": "markdown",
   "metadata": {},
   "source": [
    "Plot the data and the fitted line"
   ]
  },
  {
   "cell_type": "code",
   "execution_count": null,
   "metadata": {},
   "outputs": [],
   "source": [
    "# get parameter values\n",
    "a_fit, b_fit = m.values\n",
    "\n",
    "# plot with error bars\n",
    "plot(x, y, yerr=sigma_y, seriestype=:scatter)\n",
    "plot!(x, line.(x, a_fit, b_fit))"
   ]
  },
  {
   "cell_type": "markdown",
   "metadata": {},
   "source": [
    "## Fit of model with flexible number of parameters\n",
    "- Sometimes the model has large or variable number of parameters\n",
    "  - Example: fit a polynomial of degree 2, 3, 4, ... ?\n",
    "  - Minuit2 has alternative interface which passes parameters as `AbstractVector` to the score function\n",
    "\n",
    "Define a polynomial model"
   ]
  },
  {
   "cell_type": "code",
   "execution_count": null,
   "metadata": {},
   "outputs": [],
   "source": [
    "function LSQ_v(par)       # par is a vector of parameters\n",
    "    pol = Polynomial(par) # for len(par) == 2 this is a line\n",
    "    sum((y - pol.(x)) .^ 2 ./ sigma_y .^ 2)\n",
    "end\n",
    "#  This is the order of coefficients in the polynomial (reverse order in np.polyval)\n",
    "Polynomial([1,2,3,4])"
   ]
  },
  {
   "cell_type": "markdown",
   "metadata": {},
   "source": [
    "Create a Minuit object with the cost function and initial parameter values"
   ]
  },
  {
   "cell_type": "code",
   "execution_count": null,
   "metadata": {},
   "outputs": [],
   "source": [
    "m = Minuit(LSQ_v, [5, 5], error=[0.1, 0.1], errordef=1)\n",
    "migrad!(m)"
   ]
  },
  {
   "cell_type": "markdown",
   "metadata": {},
   "source": [
    "names are automatically generated for the parameters, or can be explicitly set"
   ]
  },
  {
   "cell_type": "code",
   "execution_count": null,
   "metadata": {},
   "outputs": [],
   "source": [
    "m = Minuit(LSQ_v, [2, 1, 3, 5], error=0.1,\n",
    "           names=(\"a\", \"b\", \"c\", \"d\"), errordef=1)\n",
    "migrad!(m)"
   ]
  },
  {
   "cell_type": "markdown",
   "metadata": {},
   "source": [
    "Lets plot the data and the fitted polynomial"
   ]
  },
  {
   "cell_type": "code",
   "execution_count": null,
   "metadata": {},
   "outputs": [],
   "source": [
    "# get parameter values\n",
    "par_fit = m.values\n",
    "pol = Polynomial(par_fit)\n",
    "\n",
    "# Plot with error bars\n",
    "plot(x, y, yerr=sigma_y, seriestype=:scatter)\n",
    "plot!(x, line.(x, a_fit, b_fit), label=\"pol2\")\n",
    "plot!(x, pol.(x), label=\"pol4\")"
   ]
  },
  {
   "cell_type": "markdown",
   "metadata": {},
   "source": [
    "Lets check reduced chi2, goodness-of-fit estimate, should be around 1"
   ]
  },
  {
   "cell_type": "code",
   "execution_count": null,
   "metadata": {},
   "outputs": [],
   "source": [
    "m.fval / (length(y) - length(par_fit))"
   ]
  },
  {
   "cell_type": "markdown",
   "metadata": {},
   "source": [
    "## Parameter uncertainties\n",
    "- Minuit2 can compute symmetric uncertainty intervals (\"Hesse errors\")\n",
    "   - automatically done during standard minimisation\n",
    "   - to make sure you get accurate errors, call hesse!(m) explicitly after migrad!(m)\n",
    "   - slow, computation time scales with  𝑁par^2\n",
    "- Minuit2 can also compute asymmetric uncertainty intervals (\"Minos errors\")\n",
    "   - need to explicitly call m.minos()\n",
    "   - very slow, computation time scales with  𝑁par^2"
   ]
  },
  {
   "cell_type": "markdown",
   "metadata": {},
   "source": [
    "Call hesse to get parameter errors"
   ]
  },
  {
   "cell_type": "code",
   "execution_count": null,
   "metadata": {},
   "outputs": [],
   "source": [
    "hesse!(m)"
   ]
  },
  {
   "cell_type": "markdown",
   "metadata": {},
   "source": [
    "Get the covariance matrix"
   ]
  },
  {
   "cell_type": "code",
   "execution_count": null,
   "metadata": {},
   "outputs": [],
   "source": [
    "matrix(m)"
   ]
  },
  {
   "cell_type": "markdown",
   "metadata": {},
   "source": [
    "Get the correlation matrix"
   ]
  },
  {
   "cell_type": "code",
   "execution_count": null,
   "metadata": {},
   "outputs": [],
   "source": [
    "matrix(m, correlation=true)"
   ]
  },
  {
   "cell_type": "markdown",
   "metadata": {},
   "source": [
    "## Call asymmetric uncertainty intervals (\"Minos errors\")\n",
    "Call `minos!` to get parameter errors"
   ]
  },
  {
   "cell_type": "code",
   "execution_count": null,
   "metadata": {},
   "outputs": [],
   "source": [
    "minos!(m)"
   ]
  },
  {
   "cell_type": "markdown",
   "metadata": {},
   "source": [
    "Get the asymmetric errors"
   ]
  },
  {
   "cell_type": "code",
   "execution_count": null,
   "metadata": {},
   "outputs": [],
   "source": [
    "m.minos |> show"
   ]
  },
  {
   "cell_type": "markdown",
   "metadata": {},
   "source": [
    "Minos can fail, check messages:\n",
    "- \"Valid\": everything is chipper\n",
    "- \"At Limit\": Minos hit parameter limit before finishing contour\n",
    "- \"Max FCN\": Minos reached call limit before finishing contour\n",
    "- \"New Min\": Minos found a new minimum while scanning\n",
    "\n",
    "get the minos errors"
   ]
  },
  {
   "cell_type": "code",
   "execution_count": null,
   "metadata": {},
   "outputs": [],
   "source": [
    "d = m.minos[\"d\"]\n",
    "d.lower, d.upper"
   ]
  },
  {
   "cell_type": "markdown",
   "metadata": {},
   "source": [
    "Plot the parameters with the asymmetric errors\n",
    "plot parameters with errors"
   ]
  },
  {
   "cell_type": "code",
   "execution_count": null,
   "metadata": {},
   "outputs": [],
   "source": [
    "v = m.values |> collect\n",
    "ve = m.errors |> collect\n",
    "vm = m.minos |> values\n",
    "vmean = [(e.upper - e.lower) / 2 for e in vm]\n",
    "\n",
    "npar = length(v)\n",
    "indices = 1:npar\n",
    "\n",
    "plot(indices .- 0.05, v, yerr=ve, seriestype=:scatter, label=\"Hesse errors\")\n",
    "plot!(indices .+ 0.05, v, yerr=vmean, seriestype=:scatter, label=\"Minos errors\")"
   ]
  },
  {
   "cell_type": "markdown",
   "metadata": {},
   "source": [
    "## Built-in plotting\n",
    "These are some functions that provide some plotting functionality.\n",
    "There are implemented as an extension module to Minuit2, which is loaded\n",
    "when the module `Plots` is available."
   ]
  },
  {
   "cell_type": "code",
   "execution_count": null,
   "metadata": {},
   "outputs": [],
   "source": [
    "draw_contour(m, \"d\", \"c\", bound=4, subtract_min=false)"
   ]
  },
  {
   "cell_type": "markdown",
   "metadata": {},
   "source": [
    "Draw the contour plot for the parameters d and c"
   ]
  },
  {
   "cell_type": "code",
   "execution_count": null,
   "metadata": {},
   "outputs": [],
   "source": [
    "draw_mncontour(m, \"d\", \"c\", cl=1:4)"
   ]
  },
  {
   "cell_type": "markdown",
   "metadata": {},
   "source": [
    "Draw the profile plot for the parameter d"
   ]
  },
  {
   "cell_type": "code",
   "execution_count": null,
   "metadata": {},
   "outputs": [],
   "source": [
    "draw_profile(m, \"d\", bound=2)"
   ]
  },
  {
   "cell_type": "markdown",
   "metadata": {},
   "source": [
    "Draw the profile plot for the parameter d"
   ]
  },
  {
   "cell_type": "code",
   "execution_count": null,
   "metadata": {},
   "outputs": [],
   "source": [
    "draw_mnprofile(m, \"d\", size=20)"
   ]
  },
  {
   "cell_type": "markdown",
   "metadata": {},
   "source": [
    "## Summary\n",
    "In this example we have shown how to use the `Minuit2` module to fit a line model to some data and\n",
    "how to estimate the parameter uncertainties. We have also shown how to fit a polynomial model with\n",
    "a flexible number of parameters."
   ]
  },
  {
   "cell_type": "markdown",
   "metadata": {},
   "source": [
    "---\n",
    "\n",
    "*This notebook was generated using [Literate.jl](https://github.com/fredrikekre/Literate.jl).*"
   ]
  }
 ],
 "metadata": {
  "kernelspec": {
   "display_name": "Julia 1.11.3",
   "language": "julia",
   "name": "julia-1.11"
  },
  "language_info": {
   "file_extension": ".jl",
   "mimetype": "application/julia",
   "name": "julia",
   "version": "1.11.3"
  }
 },
 "nbformat": 4,
 "nbformat_minor": 3
}
