{
 "cells": [
  {
   "cell_type": "code",
   "execution_count": null,
   "metadata": {},
   "outputs": [],
   "source": [
    "import numpy as np\n",
    "from iminuit import Minuit\n",
    "from iminuit.cost import BinnedNLL, UnbinnedNLL\n",
    "from scipy.stats import norm\n",
    "from jacobi import jacobi\n",
    "from math import erf"
   ]
  },
  {
   "cell_type": "code",
   "execution_count": null,
   "metadata": {},
   "outputs": [],
   "source": [
    "# generate some data\n",
    "rng = np.random.default_rng(1)\n",
    "t_mu, t_sigma = 1., 0.1\n",
    "x = rng.normal(t_mu, t_sigma, 2000)\n",
    "nx, xe = np.histogram(x, bins=50, range=(.5, 1.5))"
   ]
  },
  {
   "cell_type": "code",
   "execution_count": null,
   "metadata": {},
   "outputs": [],
   "source": [
    "# define the model and cost function\n",
    "#def cdf(x, mu, sigma):\n",
    "#    z = (x - mu) / (np.sqrt(2) * sigma)\n",
    "#    return (1 + np.vectorize(erf)(z)) * 0.5\n",
    "def cdf(x, mu, sigma):\n",
    "    return norm.cdf(x, loc=mu, scale=sigma)\n",
    "\n",
    "def cdf_grad(x, *args):\n",
    "    return jacobi(lambda p: cdf(x, *p), args)[0].T\n",
    "\n",
    "def pdf(x, mu, sigma):\n",
    "    return norm.pdf(x, loc=mu, scale=sigma)\n",
    "\n",
    "def pdf_grad(x, *args):\n",
    "    return jacobi(lambda p: pdf(x, *p), args)[1].T"
   ]
  },
  {
   "cell_type": "markdown",
   "metadata": {},
   "source": [
    "## Binned"
   ]
  },
  {
   "cell_type": "code",
   "execution_count": null,
   "metadata": {},
   "outputs": [],
   "source": [
    "cost = BinnedNLL(nx, xe, cdf, grad=cdf_grad)\n",
    "m = Minuit(cost, mu=0, sigma=1)\n",
    "m.migrad()"
   ]
  },
  {
   "cell_type": "code",
   "execution_count": null,
   "metadata": {},
   "outputs": [],
   "source": [
    "%%timeit\n",
    "m.migrad()"
   ]
  },
  {
   "cell_type": "code",
   "execution_count": null,
   "metadata": {},
   "outputs": [],
   "source": [
    "cost = BinnedNLL(nx, xe, cdf)\n",
    "m = Minuit(cost, mu=0, sigma=1)\n",
    "m.migrad()"
   ]
  },
  {
   "cell_type": "code",
   "execution_count": null,
   "metadata": {},
   "outputs": [],
   "source": [
    "%%timeit\n",
    "m.migrad()"
   ]
  },
  {
   "cell_type": "markdown",
   "metadata": {},
   "source": [
    "## Unbinned"
   ]
  },
  {
   "cell_type": "code",
   "execution_count": null,
   "metadata": {},
   "outputs": [],
   "source": [
    "cost = UnbinnedNLL(x, pdf, grad=pdf_grad)\n",
    "m = Minuit(cost, mu=0, sigma=1)\n",
    "m.migrad()"
   ]
  },
  {
   "cell_type": "code",
   "execution_count": null,
   "metadata": {},
   "outputs": [],
   "source": [
    "%%timeit\n",
    "m.migrad()"
   ]
  },
  {
   "cell_type": "code",
   "execution_count": null,
   "metadata": {},
   "outputs": [],
   "source": [
    "cost = UnbinnedNLL(x, pdf)\n",
    "m = Minuit(cost, mu=0, sigma=1)\n",
    "m.migrad()"
   ]
  },
  {
   "cell_type": "code",
   "execution_count": null,
   "metadata": {},
   "outputs": [],
   "source": [
    "%%timeit\n",
    "m.migrad()"
   ]
  },
  {
   "cell_type": "code",
   "execution_count": null,
   "metadata": {},
   "outputs": [],
   "source": [
    "%%timeit\n",
    "cost._value((1, 0.1))"
   ]
  },
  {
   "cell_type": "code",
   "execution_count": null,
   "metadata": {},
   "outputs": [],
   "source": []
  }
 ],
 "metadata": {
  "kernelspec": {
   "display_name": "Python 3",
   "language": "python",
   "name": "python3"
  },
  "language_info": {
   "codemirror_mode": {
    "name": "ipython",
    "version": 3
   },
   "file_extension": ".py",
   "mimetype": "text/x-python",
   "name": "python",
   "nbconvert_exporter": "python",
   "pygments_lexer": "ipython3",
   "version": "3.13.2"
  }
 },
 "nbformat": 4,
 "nbformat_minor": 2
}
