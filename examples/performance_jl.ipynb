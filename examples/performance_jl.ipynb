{
 "cells": [
  {
   "cell_type": "code",
   "execution_count": null,
   "metadata": {},
   "outputs": [],
   "source": [
    "using Minuit2\n",
    "using Plots\n",
    "using Distributions\n",
    "using FHist\n",
    "using FiniteDiff: finite_difference_gradient\n",
    "using BenchmarkTools\n",
    "BenchmarkTools.DEFAULT_PARAMETERS.samples = 100\n",
    "using Profile"
   ]
  },
  {
   "cell_type": "code",
   "execution_count": null,
   "metadata": {},
   "outputs": [],
   "source": [
    "# Generate some data\n",
    "const t_μ, t_σ = 1.0, 0.1\n",
    "x = rand(Normal(t_μ, t_σ), 2000)\n",
    "\n",
    "h = Hist1D(x, binedges=range(.5, 1.5, 51))"
   ]
  },
  {
   "cell_type": "code",
   "execution_count": null,
   "metadata": {},
   "outputs": [],
   "source": [
    "cdf_model(x, μ, σ) = cdf(Normal(μ, σ), x)\n",
    "cdf_grad(x, μ, σ) = finite_difference_gradient(p -> cdf_model(x, p...), [μ, σ])\n",
    "pdf_model(x, μ, σ) = pdf(Normal(μ, σ), x)\n",
    "pdf_grad(x, μ, σ) = finite_difference_gradient(p -> pdf_model(x, p...), [μ, σ])"
   ]
  },
  {
   "cell_type": "markdown",
   "metadata": {},
   "source": [
    "## Binned"
   ]
  },
  {
   "cell_type": "code",
   "execution_count": null,
   "metadata": {},
   "outputs": [],
   "source": [
    "cost = BinnedNLL(h, cdf_model, grad=cdf_grad)\n",
    "m = Minuit(cost, μ=0., σ=1., limit_σ=(0, Inf))\n",
    "migrad!(m)\n",
    "visualize(m)"
   ]
  },
  {
   "cell_type": "code",
   "execution_count": null,
   "metadata": {},
   "outputs": [],
   "source": [
    "@benchmark migrad!(m)"
   ]
  },
  {
   "cell_type": "code",
   "execution_count": null,
   "metadata": {},
   "outputs": [],
   "source": [
    "cost = BinnedNLL(h, cdf_model)\n",
    "m = Minuit(cost, μ=0., σ=1., limit_σ=(0, Inf))\n",
    "migrad!(m)\n",
    "visualize(m)"
   ]
  },
  {
   "cell_type": "code",
   "execution_count": null,
   "metadata": {},
   "outputs": [],
   "source": [
    "@benchmark migrad!(m)"
   ]
  },
  {
   "cell_type": "markdown",
   "metadata": {},
   "source": [
    "## Unbinned"
   ]
  },
  {
   "cell_type": "code",
   "execution_count": null,
   "metadata": {},
   "outputs": [],
   "source": [
    "cost = UnbinnedNLL(x, pdf_model, grad=pdf_grad)\n",
    "m = Minuit(cost, μ=0., σ=1., limit_σ=(0, Inf))\n",
    "migrad!(m)\n",
    "visualize(m)"
   ]
  },
  {
   "cell_type": "code",
   "execution_count": null,
   "metadata": {},
   "outputs": [],
   "source": [
    "@benchmark migrad!(m)"
   ]
  },
  {
   "cell_type": "code",
   "execution_count": null,
   "metadata": {},
   "outputs": [],
   "source": [
    "cost = UnbinnedNLL(x, pdf_model)\n",
    "m = Minuit(cost, μ=0., σ=1., limit_σ=(0, Inf))\n",
    "migrad!(m)\n",
    "visualize(m)"
   ]
  },
  {
   "cell_type": "code",
   "execution_count": null,
   "metadata": {},
   "outputs": [],
   "source": [
    "@benchmark migrad!(m)"
   ]
  },
  {
   "cell_type": "code",
   "execution_count": null,
   "metadata": {},
   "outputs": [],
   "source": [
    "@profile for i in 1:1000\n",
    "    migrad!(m)\n",
    "end"
   ]
  },
  {
   "cell_type": "code",
   "execution_count": null,
   "metadata": {},
   "outputs": [],
   "source": [
    "Profile.print()"
   ]
  },
  {
   "cell_type": "code",
   "execution_count": null,
   "metadata": {},
   "outputs": [],
   "source": [
    "@benchmark value(m.cost, [1.,.1])"
   ]
  },
  {
   "cell_type": "code",
   "execution_count": null,
   "metadata": {},
   "outputs": [],
   "source": []
  }
 ],
 "metadata": {
  "kernelspec": {
   "display_name": "Julia 1.11.3",
   "language": "julia",
   "name": "julia-1.11"
  },
  "language_info": {
   "file_extension": ".jl",
   "mimetype": "application/julia",
   "name": "julia",
   "version": "1.11.3"
  }
 },
 "nbformat": 4,
 "nbformat_minor": 4
}
