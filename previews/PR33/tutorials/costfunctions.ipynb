{
 "cells": [
  {
   "cell_type": "markdown",
   "source": [
    "# Cost Functions\n",
    "\n",
    "A quick guide on how to use the built-in cost functions.\n",
    "\n",
    "The Minuit2.jl package comes with few of common cost functions. Of course, you can write your own\n",
    "cost functions to use with Minuit2, but most of the cost function is always the same.\n",
    "What really varies is the statistical model which predicts the probability density as a function\n",
    "of the parameter values. This tutorial is based on an equivalent one in the `iminuit` package.\n",
    "\n",
    "We demonstrate each cost function on a standard example from high-energy physics, the fit of a\n",
    "peak over some smooth background."
   ],
   "metadata": {}
  },
  {
   "cell_type": "markdown",
   "source": [
    "Load the `Minuit2` module.\n",
    "We will also use the `Distributions`, `FHist` and `Plots` modules to define cost functions\n",
    "and display results."
   ],
   "metadata": {}
  },
  {
   "outputs": [],
   "cell_type": "code",
   "source": [
    "using Minuit2\n",
    "using Distributions\n",
    "using FHist\n",
    "using Plots\n",
    "using Random"
   ],
   "metadata": {},
   "execution_count": null
  },
  {
   "cell_type": "markdown",
   "source": [
    "We generate our data by sampling from a Gaussian peak and from exponential background\n",
    "in the range 0 to 2. The original data is then binned. One can fit the original or the binned data."
   ],
   "metadata": {}
  },
  {
   "outputs": [],
   "cell_type": "code",
   "source": [
    "Random.seed!(4321)\n",
    "const N = 1000\n",
    "const a, b = 0, 2                           # range of the data\n",
    "const μ, σ, τ, ζ = 1, 0.1, 1, 0.5           # true values of the parameters\n",
    "xdata = rand(Normal(μ, σ), N)               # Normal and Exponential are from Distributions.jl\n",
    "ydata = rand(Exponential(τ), N)\n",
    "xmix = vcat(xdata, ydata)                   # mix the data\n",
    "xmix = xmix[(a .< xmix .< b)]\n",
    "h = Hist1D(xmix, nbins=20)                  # Hist1D is from FHist.jl\n",
    "x = bincenters(h)\n",
    "y = bincounts(h)\n",
    "dy = sqrt.(y)\n",
    "# Plot the generated data\n",
    "plot(x, y, yerr=dy, seriestype=:scatter, label=\"Data\")"
   ],
   "metadata": {},
   "execution_count": null
  },
  {
   "cell_type": "markdown",
   "source": [
    "We also generate some 2D data to demonstrate multivariate fits.\n",
    "In this case, a Gaussian along axis 1 and independently an exponential along axis 2.\n",
    "In this case, the distributions are not restricted to some range in x and y."
   ],
   "metadata": {}
  },
  {
   "outputs": [],
   "cell_type": "code",
   "source": [
    "h2 = Hist2D((xdata, ydata), binedges=(range(a, b, 21), range(0., maximum(ydata), 6)))\n",
    "plot(h2)\n",
    "scatter!(xdata, ydata, markersize=2, color=:white)"
   ],
   "metadata": {},
   "execution_count": null
  },
  {
   "cell_type": "markdown",
   "source": [
    "## Maximum-likelihood fits\n",
    "Maximum-likelihood fits are the state-of-the-art when it comes to fitting models to data.\n",
    "They can be applied to unbinned and binned data (histograms).\n",
    "\n",
    "Unbinned fits are the easiest to use, because no data binning is needed.\n",
    "They become slow when the sample size is large.\n",
    "Binned fits require you to appropriately bin the data. The binning has to be fine enough\n",
    "to retain all essential information. Binned fits are much faster when the sample size is large."
   ],
   "metadata": {}
  },
  {
   "cell_type": "markdown",
   "source": [
    "### Unbinned fits\n",
    "The cost function an unbinned maximum-likelihood fit is really simple, it is the sum of the\n",
    "logarithm of the pdf evaluated at each sample point (times -1 to turn maximization into minimization).\n",
    "You can easily write this yourself, but a naive implementation will suffer from instabilities\n",
    "when the pdf becomes locally zero. Our implementation mitigates the instabilities to some extent.\n",
    "To perform the unbinned fit you need to provide the pdf of the model.\n",
    "\n",
    "The `pdf` must be normalized, which means that the integral over the sample value range must be a\n",
    "constant for any combination of model parameters. The model pdf in this case is a linear combination\n",
    "of the normal and the exponential pdfs. The parameters are  (the weight),  and  of the normal\n",
    "distribution and  of the exponential. The cost function detects the parameter names.\n",
    "\n",
    "It is important to put appropriate limits on the parameters, so that the problem does not become\n",
    "mathematically undefined: $0 < z < 1$, $\\sigma > 0$, $\\tau > 0$\n",
    "\n",
    "In addition, it can be beneficial to use $0 < \\mu < 2$, but it is not required. We use the function\n",
    "`truncated` provided by the `Distributions` package,  which normalizes inside the data range (0, 2)."
   ],
   "metadata": {}
  },
  {
   "outputs": [],
   "cell_type": "code",
   "source": [
    "my_pdf(x, ζ, μ, σ, τ) = ζ * pdf(truncated(Normal(μ, σ), a, b),x) + (1 - ζ) * pdf(truncated(Exponential(τ), a, b), x)\n",
    "\n",
    "cost = UnbinnedNLL(xmix, my_pdf)"
   ],
   "metadata": {},
   "execution_count": null
  },
  {
   "cell_type": "markdown",
   "source": [
    "The `Minuit` object is created using the cost function and the initial values limits for the\n",
    "parameters. The `migrad!`function is called to minimize the cost function. The results are then\n",
    "displayed."
   ],
   "metadata": {}
  },
  {
   "outputs": [],
   "cell_type": "code",
   "source": [
    "m = Minuit(cost, ζ=0.5, μ=1., σ=0.5, τ=1.,\n",
    "                 limit_ζ=(0, 1), limit_μ=(0, 2), limit_σ=(0, Inf), limit_τ=(0, Inf))\n",
    "migrad!(m)"
   ],
   "metadata": {},
   "execution_count": null
  },
  {
   "cell_type": "markdown",
   "source": [
    "We can also display the results of the fit graphically with the `visualize` function."
   ],
   "metadata": {}
  },
  {
   "outputs": [],
   "cell_type": "code",
   "source": [
    "visualize(m)"
   ],
   "metadata": {},
   "execution_count": null
  },
  {
   "cell_type": "markdown",
   "source": [
    "And finally, the `minos!` function can be used to calculate the errors on the parameters."
   ],
   "metadata": {}
  },
  {
   "outputs": [],
   "cell_type": "code",
   "source": [
    "minos!(m)"
   ],
   "metadata": {},
   "execution_count": null
  },
  {
   "cell_type": "markdown",
   "source": [
    "We can also see the contour choosing a pair of parameters"
   ],
   "metadata": {}
  },
  {
   "outputs": [],
   "cell_type": "code",
   "source": [
    "draw_mncontour(m, \"σ\", \"τ\", cl=1:4)\n",
    "scatter!([m.values[\"σ\"]], [m.values[\"τ\"]], label=\"fit\")\n",
    "scatter!([σ], [τ], label=\"true\")"
   ],
   "metadata": {},
   "execution_count": null
  },
  {
   "cell_type": "markdown",
   "source": [
    "And the profile"
   ],
   "metadata": {}
  },
  {
   "outputs": [],
   "cell_type": "code",
   "source": [
    "draw_mnprofile(m, \"σ\")"
   ],
   "metadata": {},
   "execution_count": null
  },
  {
   "cell_type": "markdown",
   "source": [
    "#### Extended UnbinnedNLL\n",
    "An important variant of the unbinned NLL fit is described by [Roger Barlow, Nucl.Instrum.Meth.A 297 (1990) 496-506](https://inspirehep.net/literature/297773).\n",
    "Use this if both the shape and the integral of the density are of interest.\n",
    "In practice, this is often the case, for example, if you want to estimate a cross-section or yield."
   ],
   "metadata": {}
  },
  {
   "cell_type": "markdown",
   "source": [
    "The model in this case has to return the integral of the density and the density itself (which must be vectorized).\n",
    "The parameters in this case are those already discussed in the previous section and in addition `s` (integral of the signal density),\n",
    "`b` (integral of the uniform density). The additional limits are:\n",
    "- `s > 0`,\n",
    "- `b > 0`"
   ],
   "metadata": {}
  },
  {
   "cell_type": "markdown",
   "source": [
    "Compared to the previous case, we have one more parameter to fit."
   ],
   "metadata": {}
  },
  {
   "outputs": [],
   "cell_type": "code",
   "source": [
    "density(x, s, b, μ, σ, τ) = (s + b, s * pdf(truncated(Normal(μ, σ), a, b),x) + b * pdf(truncated(Exponential(τ), a, b), x))\n",
    "cost = ExtendedUnbinnedNLL(xmix, density)\n",
    "\n",
    "m = Minuit(cost; s=300, b=1500, μ=0., σ=0.2, τ=2)\n",
    "m.limits[\"s\", \"b\", \"σ\", \"τ\"] = (0, Inf)\n",
    "migrad!(m)"
   ],
   "metadata": {},
   "execution_count": null
  },
  {
   "cell_type": "markdown",
   "source": [
    "visualize the results"
   ],
   "metadata": {}
  },
  {
   "outputs": [],
   "cell_type": "code",
   "source": [
    "visualize(m)"
   ],
   "metadata": {},
   "execution_count": null
  },
  {
   "cell_type": "markdown",
   "source": [
    "#### Multivariate fits\n",
    "We can also fit a multivariate model to multivariate data.\n",
    "We pass the model as a `logpdf` this time, which works well because the pdfs factorize.\n",
    "The package `Distributions.jl` provides directly the function `logpdf`."
   ],
   "metadata": {}
  },
  {
   "outputs": [],
   "cell_type": "code",
   "source": [
    "function my_logpdf(xy, μ, σ, τ)\n",
    "    x, y = xy\n",
    "    logpdf(Normal(μ, σ), x) + logpdf(Exponential(τ), y)\n",
    "end\n",
    "\n",
    "c = UnbinnedNLL(hcat(xdata, ydata), my_logpdf, log=true)\n",
    "m = Minuit(c, μ=1, σ=2, τ=2, limit_σ=(0,Inf), limit_τ=(0,Inf))\n",
    "migrad!(m)"
   ],
   "metadata": {},
   "execution_count": null
  },
  {
   "cell_type": "markdown",
   "source": [
    "### Binned fits\n",
    "Binned fits are computationally more efficient and numerically more stable when samples are large.\n",
    "The caveat is that one has to choose an appropriate binning. The binning should be fine enough so\n",
    "that the essential information in the original is retained.\n",
    "Using large bins does not introduce a bias, but the parameters have a larger-than-minimal variance.\n",
    "In this case, 50 bins are fine enough to retain all information.\n",
    "Using many bins is safe, since the maximum-likelihood method correctly takes Poisson statistics\n",
    "into account, which works even if bins have zero entries. Using more bins than necessary just\n",
    "increases the computational cost.\n",
    "\n",
    "Instead of a `pdf`, you need to provide a `cdf` for a binned fit in order to better calculate\n",
    "the probability of the data. The difference of `cdf` at the bin edges is the integral of the\n",
    "`pdf` over the bin range. In this example we use `Hist1D` from FHist.jl to create the histogram\n",
    "and the `BinnedNLL` cost function. Other histogram types are also possible."
   ],
   "metadata": {}
  },
  {
   "outputs": [],
   "cell_type": "code",
   "source": [
    "my_cdf(x, ζ, μ, σ, τ) = ζ * cdf(truncated(Normal(μ, σ), a, b),x) + (1 - ζ) * cdf(truncated(Exponential(τ), a, b), x)\n",
    "\n",
    "h = Hist1D(xmix, nbins=20)\n",
    "c = BinnedNLL(bincounts(h), binedges(h), my_cdf)\n",
    "m = Minuit(c, ζ=0.4, μ=1.0, σ=0.2, τ=2.0, limit_ζ=(0, 1), limit_σ=(0, Inf), limit_τ=(0, Inf))\n",
    "migrad!(m)"
   ],
   "metadata": {},
   "execution_count": null
  },
  {
   "cell_type": "markdown",
   "source": [
    "visualize the results"
   ],
   "metadata": {}
  },
  {
   "outputs": [],
   "cell_type": "code",
   "source": [
    "visualize(m)"
   ],
   "metadata": {},
   "execution_count": null
  },
  {
   "cell_type": "markdown",
   "source": [
    "Sometimes the `cdf` is expensive to calculate. In this case, you can approximate taking\n",
    "the `pdf` evaluated at the center of the bin.\n",
    "This can be done with `use_pdf=:approximate` when defining the BinnedNNL cost."
   ],
   "metadata": {}
  },
  {
   "outputs": [],
   "cell_type": "code",
   "source": [
    "my_pdf(x, ζ, μ, σ, τ) = ζ * pdf(truncated(Normal(μ, σ), a, b),x) + (1 - ζ) * pdf(truncated(Exponential(τ), a, b), x)\n",
    "\n",
    "c = BinnedNLL(bincounts(h), binedges(h), my_pdf, use_pdf=:approximate)\n",
    "m = Minuit(c, ζ=0.4, μ=0., σ=0.2, τ=2.0, limit_ζ=(0, 1), limit_σ=(0, Inf), limit_τ=(0, Inf))\n",
    "migrad!(m)"
   ],
   "metadata": {},
   "execution_count": null
  },
  {
   "cell_type": "markdown",
   "source": [
    "visualize the results"
   ],
   "metadata": {}
  },
  {
   "outputs": [],
   "cell_type": "code",
   "source": [
    "visualize(m)"
   ],
   "metadata": {},
   "execution_count": null
  },
  {
   "cell_type": "markdown",
   "source": [
    "#### Extended BinnedNLL Fits\n",
    "As in the unbinned case, the binned extended maximum-likelihood fit should be used when also\n",
    "the amplitudes of the pdfs are of interest."
   ],
   "metadata": {}
  },
  {
   "cell_type": "markdown",
   "source": [
    "Instead of a density, you need to provide the integrated density in this case (which must be vectorized).\n",
    "There is no need to separately return the total integral of the density,\n",
    "like in the unbinned case. The parameters are the same as in the unbinned extended fit."
   ],
   "metadata": {}
  },
  {
   "outputs": [],
   "cell_type": "code",
   "source": [
    "integral(x, sig, bkg, μ, σ, τ) = sig * cdf(truncated(Normal(μ, σ), a, b),x) + bkg * cdf(truncated(Exponential(τ), a, b), x)\n",
    "\n",
    "cost = ExtendedBinnedNLL(bincounts(h), binedges(h), integral)\n",
    "m = Minuit(cost, sig=500, bkg=800, μ=0, σ=0.2, τ=2, strategy=2)\n",
    "m.limits[\"sig\", \"bkg\", \"σ\", \"τ\"] = (0, Inf)\n",
    "migrad!(m)"
   ],
   "metadata": {},
   "execution_count": null
  },
  {
   "outputs": [],
   "cell_type": "code",
   "source": [
    "visualize(m)"
   ],
   "metadata": {},
   "execution_count": null
  },
  {
   "cell_type": "markdown",
   "source": [
    "#### Multi-dimensional Binned fit\n",
    "Fitting a multidimensional histogram is easy. Since the `pdfs` in this example factorize,\n",
    "the `cdf` of the 2D model is the product of the `cdfs` along each axis."
   ],
   "metadata": {}
  },
  {
   "outputs": [],
   "cell_type": "code",
   "source": [
    "my_pdf2(xy, μ, σ, τ) = pdf(Normal(μ, σ),xy[1]) * pdf(Exponential(τ), xy[2])\n",
    "\n",
    "h2 = Hist2D((xdata, ydata), nbins=(20, 20))\n",
    "c = BinnedNLL(bincounts(h2), binedges(h2), my_pdf2, use_pdf=:approximate)\n",
    "m = Minuit(c, ζ=0.4, μ=1., σ=2., τ=2., limit_σ=(0, Inf), limit_τ=(0, Inf))\n",
    "migrad!(m)"
   ],
   "metadata": {},
   "execution_count": null
  },
  {
   "cell_type": "markdown",
   "source": [
    "## Least-squares fits\n",
    "A cost function for a general weighted least-squares fit (aka chi-square fit) is also included.\n",
    "In statistics this is called non-linear regression. In this case you need to provide a model\n",
    "that predicts the y-values as a function of the x-values and the parameters.\n",
    "The fit needs estimates of the y-errors. If those are wrong, the fit may be biased."
   ],
   "metadata": {}
  },
  {
   "outputs": [],
   "cell_type": "code",
   "source": [
    "# Define the model\n",
    "model(x, a, b) = a + b * x^2\n",
    "\n",
    "# Define the data and truth\n",
    "truth = 1, 2\n",
    "x = range(0, 1., 20)\n",
    "yt = model.(x, truth...)\n",
    "ye = 0.4 .* x.^5 .+ 0.1\n",
    "y = yt + ye .* randn(length(x))\n",
    "\n",
    "# Plot with error bars\n",
    "plot(x, y, yerr=ye, seriestype=:scatter, label=\"Data\")\n",
    "plot!(x, yt, label=\"Truth\", linestyle=:dash)"
   ],
   "metadata": {},
   "execution_count": null
  },
  {
   "cell_type": "markdown",
   "source": [
    "Define the `LeastSquares` cost function and create the `Minuit` object."
   ],
   "metadata": {}
  },
  {
   "outputs": [],
   "cell_type": "code",
   "source": [
    "c = LeastSquares(x, y, ye, model)\n",
    "m1 = Minuit(c, a=0, b=0)\n",
    "migrad!(m1)\n",
    "visualize(m1)"
   ],
   "metadata": {},
   "execution_count": null
  },
  {
   "cell_type": "markdown",
   "source": [
    "the property `parameters` can be used to get the parameter values and errors."
   ],
   "metadata": {}
  },
  {
   "outputs": [],
   "cell_type": "code",
   "source": [
    "m1.parameters"
   ],
   "metadata": {},
   "execution_count": null
  },
  {
   "cell_type": "markdown",
   "source": [
    "### Multivariate model fits\n",
    "In this case we fit a plane in 2D. The model is a linear combination of the x and y values.\n",
    "It is easy to provide the gradient of the model."
   ],
   "metadata": {}
  },
  {
   "outputs": [],
   "cell_type": "code",
   "source": [
    "function model2(xy, a, bx, by)\n",
    "    x, y = xy\n",
    "    return a + bx * x + by * y\n",
    "end\n",
    "\n",
    "function model2_grad(xy, a, bx, by)\n",
    "    x, y = xy\n",
    "    return [1, x, y]\n",
    "end"
   ],
   "metadata": {},
   "execution_count": null
  },
  {
   "cell_type": "markdown",
   "source": [
    "Lets generate some 2D data with some normal distributed error and plot it."
   ],
   "metadata": {}
  },
  {
   "outputs": [],
   "cell_type": "code",
   "source": [
    "# generate a regular grid in x and y\n",
    "xy = [(x,y) for x in range(-1.,1.,10) for y in range(-1.,1.,10)]\n",
    "\n",
    "# model truth\n",
    "zt = model2.(xy, 1, 2, 3)\n",
    "\n",
    "zerror = 1.\n",
    "z = zt .+ zerror .* randn(length(xy))\n",
    "\n",
    "scatter(xy, zcolor=z)"
   ],
   "metadata": {},
   "execution_count": null
  },
  {
   "cell_type": "markdown",
   "source": [
    "Define the `LeastSquares` cost function and create the `Minuit` object."
   ],
   "metadata": {}
  },
  {
   "outputs": [],
   "cell_type": "code",
   "source": [
    "c2 = LeastSquares(xy, z, zerror, model2)\n",
    "m2 = Minuit(c2, 0, 0, 0)\n",
    "migrad!(m2)"
   ],
   "metadata": {},
   "execution_count": null
  },
  {
   "cell_type": "markdown",
   "source": [
    "Multivariate fits are difficult to check by eye. Here we use color to indicate the function value.\n",
    "To guarantee that plot of the function and the plot of the data use the same color scale."
   ],
   "metadata": {}
  },
  {
   "outputs": [],
   "cell_type": "code",
   "source": [
    "heatmap(range(-1.,1.,100), range(-1.,1.,100), (x,y)->model2((x,y), m2.values...))\n",
    "scatter!(xy, zcolor=z)"
   ],
   "metadata": {},
   "execution_count": null
  },
  {
   "cell_type": "markdown",
   "source": [
    "Let's use the gradient in a multi-variate"
   ],
   "metadata": {}
  },
  {
   "outputs": [],
   "cell_type": "code",
   "source": [
    "c2 = LeastSquares(xy, z, zerror, model2, grad=model2_grad)\n",
    "m2 = Minuit(c2, 0, 0, 0)\n",
    "migrad!(m2)"
   ],
   "metadata": {},
   "execution_count": null
  },
  {
   "cell_type": "markdown",
   "source": [
    "### Robust least-squared\n",
    "The built-in least-squares function also supports robust fitting with an alternative loss functions.\n",
    "Builtin loss functions are:\n",
    "- linear (default): gives ordinary weighted least-squares\n",
    "- soft_l1: quadratic ordinary loss for small deviations (<< 1σ), linear loss for large deviations (>> 1σ),\n",
    "  and smooth interpolation in between\n",
    "\n",
    "Let’s create one outlier and see what happens with ordinary loss."
   ],
   "metadata": {}
  },
  {
   "outputs": [],
   "cell_type": "code",
   "source": [
    "c.y[4] = 3.0   # Generate an outlier\n",
    "migrad!(m1)\n",
    "visualize(m1)\n",
    "plot!(x, yt, label=\"Truth\", linestyle=:dash)"
   ],
   "metadata": {},
   "execution_count": null
  },
  {
   "outputs": [],
   "cell_type": "code",
   "source": [
    "m1.parameters"
   ],
   "metadata": {},
   "execution_count": null
  },
  {
   "cell_type": "markdown",
   "source": [
    "The result is distorted by the outlier. Note that the error did not increase!\n",
    "The size of the error computed by Minuit does **not** include mismodelling.\n",
    "We can try first to mask the outlier temporary"
   ],
   "metadata": {}
  },
  {
   "outputs": [],
   "cell_type": "code",
   "source": [
    "mask = c.y .!= 3.0\n",
    "c.mask = mask\n",
    "migrad!(m1)\n",
    "visualize(m1)\n",
    "plot!(x, yt, label=\"Truth\", linestyle=:dash)"
   ],
   "metadata": {},
   "execution_count": null
  },
  {
   "cell_type": "markdown",
   "source": [
    "Alternatively, we can repair this with by switching to `:soft_l1` loss."
   ],
   "metadata": {}
  },
  {
   "outputs": [],
   "cell_type": "code",
   "source": [
    "c.mask = nothing\n",
    "c.loss = :soft_l1\n",
    "migrad!(m1)\n",
    "visualize(m1)\n",
    "plot!(x, yt, label=\"Truth\", linestyle=:dash)"
   ],
   "metadata": {},
   "execution_count": null
  },
  {
   "cell_type": "markdown",
   "source": [
    "And the parameters are"
   ],
   "metadata": {}
  },
  {
   "outputs": [],
   "cell_type": "code",
   "source": [
    "m1.parameters"
   ],
   "metadata": {},
   "execution_count": null
  },
  {
   "cell_type": "markdown",
   "source": [
    "---\n",
    "\n",
    "*This notebook was generated using [Literate.jl](https://github.com/fredrikekre/Literate.jl).*"
   ],
   "metadata": {}
  }
 ],
 "nbformat_minor": 3,
 "metadata": {
  "language_info": {
   "file_extension": ".jl",
   "mimetype": "application/julia",
   "name": "julia",
   "version": "1.11.5"
  },
  "kernelspec": {
   "name": "julia-1.11",
   "display_name": "Julia 1.11.5",
   "language": "julia"
  }
 },
 "nbformat": 4
}
