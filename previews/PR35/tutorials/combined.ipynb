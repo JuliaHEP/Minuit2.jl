{
 "cells": [
  {
   "cell_type": "markdown",
   "source": [
    "# Combined Fits\n",
    "\n",
    "A quick guide on how to combined several fits into a single one using the `Minuit2` package."
   ],
   "metadata": {}
  },
  {
   "cell_type": "markdown",
   "source": [
    "Load the `Minuit2` module.\n",
    "We will also use the `Distributions`, `FHist` and `Plots` modules to define cost functions\n",
    "and display results."
   ],
   "metadata": {}
  },
  {
   "outputs": [],
   "cell_type": "code",
   "source": [
    "using Minuit2\n",
    "using Distributions         # Distributions\n",
    "using Plots                 # Plotting\n",
    "using FHist                 # Histogramming\n",
    "using QuadGK                # Numerical integration"
   ],
   "metadata": {},
   "execution_count": null
  },
  {
   "cell_type": "markdown",
   "source": [
    "## Define the model\n",
    "We define a model with two signal distributions and a background distribution.\n",
    "The model is defined as:\n",
    "\n",
    "$ \\text{pdf} = f_{\\text{bkg}} \\times \\text{bkg}(x,a_0,a_1) + (1-f_{\\text{bkg}}) \\times (f_{\\text{sig1}} \\times \\text{sig1}(x,m,s_1) + (1-f_{\\text{sig1}}) \\times \\text{sig2}(x,m,s_2)) $\n",
    "\n",
    "where:\n",
    "- `a0` and `a1` are the parameters of the background distribution,\n",
    "- `μ`, `σ1` and `σ2` are the parameters of the signal distributions,\n",
    "- `f_sig1` and `f_bkg` are the fractions of the signal and background distributions.\n",
    "\n",
    "We define the background and signal functions as follows:"
   ],
   "metadata": {}
  },
  {
   "outputs": [],
   "cell_type": "code",
   "source": [
    "const a, b = (0., 10.) # range of the x-axis\n",
    "\n",
    "sig1(x, μ, σ1, f_bkg, f_sig1) = (1-f_bkg) * f_sig1 * pdf(truncated(Normal(μ,σ1),a,b),x)\n",
    "sig2(x, μ, σ2, f_bkg, f_sig1) = (1-f_bkg) * (1-f_sig1) * pdf(truncated(Normal(μ,σ2),a,b),x)\n",
    "bkg(x, a0, a1, f_bkg) = f_bkg * pdf(ChebyshevDist([1., a0, a1], a, b), x)\n",
    "model(x, μ, σ1, σ2, a0, a1, f_sig1, f_bkg) = bkg(x, a0, a1, f_bkg) + sig1(x, μ, σ1,f_bkg,f_sig1) + sig2(x, μ, σ2, f_bkg, f_sig1)"
   ],
   "metadata": {},
   "execution_count": null
  },
  {
   "cell_type": "markdown",
   "source": [
    "Verify that the functions are normalized"
   ],
   "metadata": {}
  },
  {
   "outputs": [],
   "cell_type": "code",
   "source": [
    "@assert quadgk(x -> sig1(x, 5., 1., 0.0, 1.), a, b)[1] ≈ 1.\n",
    "@assert quadgk(x -> sig2(x, 5., 1., 0.0, 0.0), a, b)[1] ≈ 1.\n",
    "@assert quadgk(x -> bkg(x, 0.2, 0.5, 1.), a, b)[1] ≈ 1."
   ],
   "metadata": {},
   "execution_count": null
  },
  {
   "cell_type": "markdown",
   "source": [
    "Lets generate some data"
   ],
   "metadata": {}
  },
  {
   "outputs": [],
   "cell_type": "code",
   "source": [
    "f_sig1 = 0.8\n",
    "f_bkg = 0.5\n",
    "μ = 5.\n",
    "σ1 = 0.5\n",
    "σ2 = 1.\n",
    "a0 = 0.5\n",
    "a1 = 0.2\n",
    "const N = 1000\n",
    "xsig1 = rand(truncated(Normal(μ,σ1),a,b), Int(round(N*(1-f_bkg)*f_sig1)))\n",
    "xsig2 = rand(truncated(Normal(μ,σ2),a,b), Int(round(N*(1-f_bkg)*(1-f_sig1))))\n",
    "xbkg = rand(ChebyshevDist([1., a0, a1], a, b), Int(round(N*f_bkg)))\n",
    "data = vcat(xsig1, xsig2, xbkg);"
   ],
   "metadata": {},
   "execution_count": null
  },
  {
   "cell_type": "markdown",
   "source": [
    "Plot the data and the model"
   ],
   "metadata": {}
  },
  {
   "outputs": [],
   "cell_type": "code",
   "source": [
    "h = Hist1D(data, nbins=50)\n",
    "plot(bincenters(h), bincounts(h), yerr=sqrt.(bincounts(h)), seriestype=:scatter, label=\"data\")\n",
    "plot!(x -> bkg(x, a0, a1, f_bkg)*N*(b-a)/50, a, b, label=\"bkg\")\n",
    "plot!(x -> (bkg(x, a0, a1, f_bkg)+sig2(x, μ, σ2, f_bkg, f_sig1))*N*(b-a)/50, a, b, label=\"sig2+bkg\")\n",
    "plot!(x -> (bkg(x, a0, a1, f_bkg)+sig2(x, μ, σ2, f_bkg, f_sig1)+sig1(x, μ, σ1, f_bkg, f_sig1))*N*(b-a)/50, a, b, label=\"sig1+sig2+bkg\")"
   ],
   "metadata": {},
   "execution_count": null
  },
  {
   "cell_type": "markdown",
   "source": [
    "Define the unbinned NLL cost function for the model"
   ],
   "metadata": {}
  },
  {
   "outputs": [],
   "cell_type": "code",
   "source": [
    "cost1 = UnbinnedNLL(data, model)    # Define the cost function"
   ],
   "metadata": {},
   "execution_count": null
  },
  {
   "cell_type": "markdown",
   "source": [
    "Define the minimizer and perform the fit"
   ],
   "metadata": {}
  },
  {
   "outputs": [],
   "cell_type": "code",
   "source": [
    "m = Minuit(cost1, μ=5., σ1=0.5, σ2=1., a0=0.5, a1=0.2, f_sig1=0.8, f_bkg=0.5) # Define the minimizer\n",
    "m.limits[\"σ1\", \"σ2\"] = (0., Inf) # Set limits for the sigma\n",
    "m.limits[\"f_sig1\", \"f_bkg\"] = (0., 1.) # Set limits for the fractions\n",
    "m = migrad!(m) # Perform the fit"
   ],
   "metadata": {},
   "execution_count": null
  },
  {
   "cell_type": "markdown",
   "source": [
    "Visualize the fit"
   ],
   "metadata": {}
  },
  {
   "outputs": [],
   "cell_type": "code",
   "source": [
    "visualize(m)\n",
    "plot!(x -> model(x, μ, σ1, σ2, a0, a1, f_sig1, f_bkg)* N * (b-a)/50, a, b, label=\"truth\")"
   ],
   "metadata": {},
   "execution_count": null
  },
  {
   "cell_type": "markdown",
   "source": [
    "## Combination of two signal distributions and a background distribution\n",
    "For each sample we define an `ExtendedUnbinnedNLL` cost function since we\n",
    "would like to also fit the number of events for each of the sample, which is\n",
    "equivalent to the fractions for ech sample.\n",
    "\n",
    "Please note that the `ExtendedUnbinnedNLL` cost function is used to fit the number of events for each sample.\n",
    "the model returns two values: the number of events and the value of the pdf at the given point."
   ],
   "metadata": {}
  },
  {
   "outputs": [],
   "cell_type": "code",
   "source": [
    "sig1_(x, μ, σ1, f_bkg, f_sig1) = N * (1-f_bkg) * f_sig1, N * (1-f_bkg) * f_sig1 * pdf(truncated(Normal(μ,σ1),a,b),x)\n",
    "sig2_(x, μ, σ2, f_bkg, f_sig1) = N * (1-f_bkg) * (1-f_sig1), N *(1-f_bkg) * (1-f_sig1) * pdf(truncated(Normal(μ,σ2),a,b),x)\n",
    "bkg_(x, a0, a1, f_bkg) = N * f_bkg, N * f_bkg * pdf(ChebyshevDist([1., a0, a1], a, b), x)\n",
    "\n",
    "csig1 = ExtendedUnbinnedNLL(xsig1, sig1_)\n",
    "csig2 = ExtendedUnbinnedNLL(xsig2, sig2_)\n",
    "cbkg = ExtendedUnbinnedNLL(xbkg, bkg_)"
   ],
   "metadata": {},
   "execution_count": null
  },
  {
   "cell_type": "markdown",
   "source": [
    "Combining the fit is simply done by summing the cost functions"
   ],
   "metadata": {}
  },
  {
   "outputs": [],
   "cell_type": "code",
   "source": [
    "cost2 = csig1 + csig2 + cbkg"
   ],
   "metadata": {},
   "execution_count": null
  },
  {
   "cell_type": "markdown",
   "source": [
    "Define the minimizer and perform the fit"
   ],
   "metadata": {}
  },
  {
   "outputs": [],
   "cell_type": "code",
   "source": [
    "m = Minuit(cost2, μ=5., σ1=0.5, σ2=1., a0=0.5, a1=0.2, f_sig1=0.8, f_bkg=0.5)\n",
    "m.limits[\"σ1\", \"σ2\"] = (0., Inf)\n",
    "m.limits[\"f_sig1\", \"f_bkg\"] = (0., 1.)\n",
    "m = migrad!(m)"
   ],
   "metadata": {},
   "execution_count": null
  },
  {
   "cell_type": "markdown",
   "source": [
    "Visualize the fit. In this case we visualize the fit for each sample\n",
    "separately."
   ],
   "metadata": {}
  },
  {
   "outputs": [],
   "cell_type": "code",
   "source": [
    "visualize(m)"
   ],
   "metadata": {},
   "execution_count": null
  },
  {
   "cell_type": "markdown",
   "source": [
    "---\n",
    "\n",
    "*This notebook was generated using [Literate.jl](https://github.com/fredrikekre/Literate.jl).*"
   ],
   "metadata": {}
  }
 ],
 "nbformat_minor": 3,
 "metadata": {
  "language_info": {
   "file_extension": ".jl",
   "mimetype": "application/julia",
   "name": "julia",
   "version": "1.11.6"
  },
  "kernelspec": {
   "name": "julia-1.11",
   "display_name": "Julia 1.11.6",
   "language": "julia"
  }
 },
 "nbformat": 4
}
