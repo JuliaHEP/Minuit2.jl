{
 "cells": [
  {
   "cell_type": "markdown",
   "source": [
    "# RooFit Basics\n",
    "\n",
    "Basic functionality: fitting, plotting, toy data generation on one-dimensional PDFs."
   ],
   "metadata": {}
  },
  {
   "cell_type": "markdown",
   "source": [
    "Load the `Minuit2.RooFit` module and other needed modules."
   ],
   "metadata": {}
  },
  {
   "outputs": [],
   "cell_type": "code",
   "source": [
    "using Minuit2.RooFit\n",
    "using Plots\n",
    "theme(:boxed)"
   ],
   "metadata": {},
   "execution_count": null
  },
  {
   "cell_type": "markdown",
   "source": [
    "## Setup the model"
   ],
   "metadata": {}
  },
  {
   "outputs": [],
   "cell_type": "code",
   "source": [
    "# Declare variables, x, mean and sigma with initial value and allowed range\n",
    "x = RealVar(:x, 0.0, limits=(-10, 10), nbins=30)\n",
    "mean = RealVar(:mean, 1.0, limits=(-10, 10))\n",
    "sigma = RealVar(:sigma, 1.0, limits=(0.1, 10))\n",
    "\n",
    "gauss = Gaussian(:gauss, x, mean, sigma)"
   ],
   "metadata": {},
   "execution_count": null
  },
  {
   "cell_type": "markdown",
   "source": [
    "## Plot the model and change the parameter values_v"
   ],
   "metadata": {}
  },
  {
   "outputs": [],
   "cell_type": "code",
   "source": [
    "plot(gauss, title=\"Gaussian pdf\")\n",
    "gauss.sigma.value = 3.0\n",
    "plot!(gauss, label=\"new sigma\")"
   ],
   "metadata": {},
   "execution_count": null
  },
  {
   "cell_type": "markdown",
   "source": [
    "## Generate some data"
   ],
   "metadata": {}
  },
  {
   "outputs": [],
   "cell_type": "code",
   "source": [
    "data = generate(gauss, 1000);"
   ],
   "metadata": {},
   "execution_count": null
  },
  {
   "cell_type": "markdown",
   "source": [
    "## Plot the data with the model"
   ],
   "metadata": {}
  },
  {
   "outputs": [],
   "cell_type": "code",
   "source": [
    "plot(data, title=\"gaussian with data\", label=\"data\")\n",
    "plot!(gauss, label=\"pdf\")"
   ],
   "metadata": {},
   "execution_count": null
  },
  {
   "cell_type": "markdown",
   "source": [
    "## Fit model with the data"
   ],
   "metadata": {}
  },
  {
   "outputs": [],
   "cell_type": "code",
   "source": [
    "result = fitTo(gauss, data)\n",
    "# Print values of mean and sigma (that now reflect fitted values and errors)\n",
    "println(\"Mean is $(gauss.mean.value) ± $(gauss.mean.error))\")\n",
    "println(\"Sigma is $(gauss.sigma.value) ± $(gauss.sigma.error))\")"
   ],
   "metadata": {},
   "execution_count": null
  },
  {
   "cell_type": "markdown",
   "source": [
    "## Plot the fit result"
   ],
   "metadata": {}
  },
  {
   "outputs": [],
   "cell_type": "code",
   "source": [
    "plot(result, title=\"Gaussian fit\")"
   ],
   "metadata": {},
   "execution_count": null
  },
  {
   "cell_type": "markdown",
   "source": [
    "---\n",
    "\n",
    "*This notebook was generated using [Literate.jl](https://github.com/fredrikekre/Literate.jl).*"
   ],
   "metadata": {}
  }
 ],
 "nbformat_minor": 3,
 "metadata": {
  "language_info": {
   "file_extension": ".jl",
   "mimetype": "application/julia",
   "name": "julia",
   "version": "1.11.7"
  },
  "kernelspec": {
   "name": "julia-1.11",
   "display_name": "Julia 1.11.7",
   "language": "julia"
  }
 },
 "nbformat": 4
}
