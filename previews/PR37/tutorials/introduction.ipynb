{
 "cells": [
  {
   "cell_type": "markdown",
   "source": [
    "# Introduction to Minuit2.jl\n",
    "\n",
    "This tutorial is based in the `iminuit` introduction [tutorial](https://indico.cern.ch/event/833895/contributions/3577808/attachments/1927550/3191336/iminuit_intro.html)\n",
    "It is a simple example that shows how to interact with the Minuit2 classes."
   ],
   "metadata": {}
  },
  {
   "cell_type": "markdown",
   "source": [
    "## Loading the necessary Julia modules\n",
    "Load the `Minuit2` module.\n",
    "We will also use the `Polynomials` and `Plots` modules to define cost functions\n",
    "display results."
   ],
   "metadata": {}
  },
  {
   "outputs": [],
   "cell_type": "code",
   "source": [
    "using Minuit2\n",
    "using Polynomials\n",
    "using FHist\n",
    "using Plots"
   ],
   "metadata": {},
   "execution_count": null
  },
  {
   "cell_type": "markdown",
   "source": [
    "## Define some data to fit\n",
    "We generate some data points that follow a linear model with some noise."
   ],
   "metadata": {}
  },
  {
   "outputs": [],
   "cell_type": "code",
   "source": [
    "# let's make a line model\n",
    "line(x, a, b) = a + x * b\n",
    "\n",
    "a_true = 1.0\n",
    "b_true = 2.0\n",
    "\n",
    "# let's make some data\n",
    "x = range(0, 1., 10)\n",
    "\n",
    "# precomputed random numbers from standard normal distribution\n",
    "z = [-0.49783783, -0.33041722, -1.71800806,  1.60229399,\n",
    "      1.36682387, -1.15424221, -0.91425267, -0.03395604,\n",
    "      -1.27611719, -0.7004073 ]\n",
    "\n",
    "sigma_y = 0.1\n",
    "y = line.(x, a_true, b_true) + sigma_y * z\n",
    "\n",
    "# Plot with error bars\n",
    "plot(x, y, yerr=sigma_y, seriestype=:scatter)"
   ],
   "metadata": {},
   "execution_count": null
  },
  {
   "cell_type": "markdown",
   "source": [
    "- Want to estimate parameters (𝑎,𝑏) of line model from data\n",
    "- Need a `score`` which is minimal when model best agrees with data\n",
    "    - Sum of residuals squared (least-squares method)\n",
    "    - Negated sum of log-likelihood values (maximum-likelihood method)\n",
    "- MINUIT always minimizes; negate score function to maximize\n",
    "- Use `Minuit2` to numerically minimize score as function of model parameters\n",
    "\n",
    "## Define a cost function\n",
    "We will use the least squares method to define the cost function.\n",
    "The cost function is the sum of the residuals squared."
   ],
   "metadata": {}
  },
  {
   "outputs": [],
   "cell_type": "code",
   "source": [
    "LSQ(a, b) = sum((y - line.(x, a, b)) .^ 2 ./ sigma_y .^ 2)"
   ],
   "metadata": {},
   "execution_count": null
  },
  {
   "cell_type": "markdown",
   "source": [
    "## Create a Minuit object\n",
    "Create a `Minuit` object with the cost function and initial parameter values.\n",
    "We fix the parameter `a` to an arbitrary value on this first attempt."
   ],
   "metadata": {}
  },
  {
   "outputs": [],
   "cell_type": "code",
   "source": [
    "m = Minuit(LSQ; a=2, b=5, fix_a=true,\n",
    "                error_a=0.1, error_b=0.1,\n",
    "                errordef=1)"
   ],
   "metadata": {},
   "execution_count": null
  },
  {
   "cell_type": "markdown",
   "source": [
    "## Minimize the cost function\n",
    "Minimize the cost function using the `migrad` method"
   ],
   "metadata": {}
  },
  {
   "outputs": [],
   "cell_type": "code",
   "source": [
    "migrad!(m)"
   ],
   "metadata": {},
   "execution_count": null
  },
  {
   "cell_type": "markdown",
   "source": [
    "Plot the data and the fitted line"
   ],
   "metadata": {}
  },
  {
   "outputs": [],
   "cell_type": "code",
   "source": [
    "# get parameter values\n",
    "a_fit, b_fit = m.values\n",
    "\n",
    "# Plot with error bars\n",
    "plot(x, y, yerr=sigma_y, seriestype=:scatter)\n",
    "plot!(x, line.(x, a_fit, b_fit))"
   ],
   "metadata": {},
   "execution_count": null
  },
  {
   "cell_type": "markdown",
   "source": [
    "Lets change the initial value of `a` and `b` and run `migrad` again"
   ],
   "metadata": {}
  },
  {
   "outputs": [],
   "cell_type": "code",
   "source": [
    "m = Minuit(LSQ; a=5, b=5, error_a=0.1, error_b=0.1,\n",
    "                limit_a=(0, Inf), limit_b=(0, 10.), errordef=1)\n",
    "migrad!(m)"
   ],
   "metadata": {},
   "execution_count": null
  },
  {
   "cell_type": "markdown",
   "source": [
    "Plot the data and the fitted line"
   ],
   "metadata": {}
  },
  {
   "outputs": [],
   "cell_type": "code",
   "source": [
    "# get parameter values\n",
    "a_fit, b_fit = m.values\n",
    "\n",
    "# plot with error bars\n",
    "plot(x, y, yerr=sigma_y, seriestype=:scatter)\n",
    "plot!(x, line.(x, a_fit, b_fit))"
   ],
   "metadata": {},
   "execution_count": null
  },
  {
   "cell_type": "markdown",
   "source": [
    "## Fit of model with flexible number of parameters\n",
    "- Sometimes the model has large or variable number of parameters\n",
    "  - Example: fit a polynomial of degree 2, 3, 4, ... ?\n",
    "  - Minuit2 has alternative interface which passes parameters as `AbstractVector` to the score function\n",
    "\n",
    "Define a polynomial model"
   ],
   "metadata": {}
  },
  {
   "outputs": [],
   "cell_type": "code",
   "source": [
    "function LSQ_v(par)       # par is a vector of parameters\n",
    "    pol = Polynomial(par) # for len(par) == 2 this is a line\n",
    "    sum((y - pol.(x)) .^ 2 ./ sigma_y .^ 2)\n",
    "end\n",
    "#  This is the order of coefficients in the polynomial (reverse order in np.polyval)\n",
    "Polynomial([1,2,3,4])"
   ],
   "metadata": {},
   "execution_count": null
  },
  {
   "cell_type": "markdown",
   "source": [
    "Create a Minuit object with the cost function and initial parameter values"
   ],
   "metadata": {}
  },
  {
   "outputs": [],
   "cell_type": "code",
   "source": [
    "m = Minuit(LSQ_v, [5, 5], error=[0.1, 0.1], errordef=1)\n",
    "migrad!(m)"
   ],
   "metadata": {},
   "execution_count": null
  },
  {
   "cell_type": "markdown",
   "source": [
    "names are automatically generated for the parameters, or can be explicitly set"
   ],
   "metadata": {}
  },
  {
   "outputs": [],
   "cell_type": "code",
   "source": [
    "m = Minuit(LSQ_v, [2, 1, 3, 5], error=0.1,\n",
    "           names=(\"a\", \"b\", \"c\", \"d\"), errordef=1)\n",
    "migrad!(m)"
   ],
   "metadata": {},
   "execution_count": null
  },
  {
   "cell_type": "markdown",
   "source": [
    "Lets plot the data and the fitted polynomial"
   ],
   "metadata": {}
  },
  {
   "outputs": [],
   "cell_type": "code",
   "source": [
    "# get parameter values\n",
    "par_fit = m.values\n",
    "pol = Polynomial(par_fit)\n",
    "\n",
    "# Plot with error bars\n",
    "plot(x, y, yerr=sigma_y, seriestype=:scatter)\n",
    "plot!(x, line.(x, a_fit, b_fit), label=\"pol2\")\n",
    "plot!(x, pol.(x), label=\"pol4\")"
   ],
   "metadata": {},
   "execution_count": null
  },
  {
   "cell_type": "markdown",
   "source": [
    "Lets check reduced chi2, goodness-of-fit estimate, should be around 1"
   ],
   "metadata": {}
  },
  {
   "outputs": [],
   "cell_type": "code",
   "source": [
    "m.fval / (length(y) - length(par_fit))"
   ],
   "metadata": {},
   "execution_count": null
  },
  {
   "cell_type": "markdown",
   "source": [
    "## Parameter uncertainties\n",
    "- Minuit2 can compute symmetric uncertainty intervals (\"Hesse errors\")\n",
    "   - automatically done during standard minimisation\n",
    "   - to make sure you get accurate errors, call hesse!(m) explicitly after migrad!(m)\n",
    "   - slow, computation time scales with  𝑁par^2\n",
    "- Minuit2 can also compute asymmetric uncertainty intervals (\"Minos errors\")\n",
    "   - need to explicitly call m.minos()\n",
    "   - very slow, computation time scales with  𝑁par^2"
   ],
   "metadata": {}
  },
  {
   "cell_type": "markdown",
   "source": [
    "Call hesse to get parameter errors"
   ],
   "metadata": {}
  },
  {
   "outputs": [],
   "cell_type": "code",
   "source": [
    "hesse!(m)"
   ],
   "metadata": {},
   "execution_count": null
  },
  {
   "cell_type": "markdown",
   "source": [
    "Get the covariance matrix"
   ],
   "metadata": {}
  },
  {
   "outputs": [],
   "cell_type": "code",
   "source": [
    "matrix(m)"
   ],
   "metadata": {},
   "execution_count": null
  },
  {
   "cell_type": "markdown",
   "source": [
    "Get the correlation matrix"
   ],
   "metadata": {}
  },
  {
   "outputs": [],
   "cell_type": "code",
   "source": [
    "matrix(m, correlation=true)"
   ],
   "metadata": {},
   "execution_count": null
  },
  {
   "cell_type": "markdown",
   "source": [
    "## Call asymmetric uncertainty intervals (\"Minos errors\")\n",
    "Call `minos!` to get parameter errors"
   ],
   "metadata": {}
  },
  {
   "outputs": [],
   "cell_type": "code",
   "source": [
    "minos!(m)"
   ],
   "metadata": {},
   "execution_count": null
  },
  {
   "cell_type": "markdown",
   "source": [
    "Get the asymmetric errors"
   ],
   "metadata": {}
  },
  {
   "outputs": [],
   "cell_type": "code",
   "source": [
    "m.minos |> show"
   ],
   "metadata": {},
   "execution_count": null
  },
  {
   "cell_type": "markdown",
   "source": [
    "Minos can fail, check messages:\n",
    "- \"Valid\": everything is chipper\n",
    "- \"At Limit\": Minos hit parameter limit before finishing contour\n",
    "- \"Max FCN\": Minos reached call limit before finishing contour\n",
    "- \"New Min\": Minos found a new minimum while scanning\n",
    "\n",
    "get the minos errors"
   ],
   "metadata": {}
  },
  {
   "outputs": [],
   "cell_type": "code",
   "source": [
    "d = m.minos[\"d\"]\n",
    "d.lower, d.upper"
   ],
   "metadata": {},
   "execution_count": null
  },
  {
   "cell_type": "markdown",
   "source": [
    "Plot the parameters with the asymmetric errors\n",
    "plot parameters with errors"
   ],
   "metadata": {}
  },
  {
   "outputs": [],
   "cell_type": "code",
   "source": [
    "v = m.values |> collect\n",
    "ve = m.errors |> collect\n",
    "vm = m.minos |> values\n",
    "vmean = [(e.upper - e.lower) / 2 for e in vm]\n",
    "\n",
    "npar = length(v)\n",
    "indices = 1:npar\n",
    "\n",
    "plot(indices .- 0.05, v, yerr=ve, seriestype=:scatter, label=\"Hesse errors\")\n",
    "plot!(indices .+ 0.05, v, yerr=vmean, seriestype=:scatter, label=\"Minos errors\")"
   ],
   "metadata": {},
   "execution_count": null
  },
  {
   "cell_type": "markdown",
   "source": [
    "## Built-in plotting\n",
    "These are some functions that provide some plotting functionality.\n",
    "There are implemented as an extension module to Minuit2, which is loaded\n",
    "when the module `Plots` is available."
   ],
   "metadata": {}
  },
  {
   "outputs": [],
   "cell_type": "code",
   "source": [
    "draw_contour(m, \"d\", \"c\", bound=4, subtract_min=false)"
   ],
   "metadata": {},
   "execution_count": null
  },
  {
   "cell_type": "markdown",
   "source": [
    "Draw the contour plot for the parameters d and c"
   ],
   "metadata": {}
  },
  {
   "outputs": [],
   "cell_type": "code",
   "source": [
    "draw_mncontour(m, \"d\", \"c\", cl=1:4)"
   ],
   "metadata": {},
   "execution_count": null
  },
  {
   "cell_type": "markdown",
   "source": [
    "Draw the profile plot for the parameter d"
   ],
   "metadata": {}
  },
  {
   "outputs": [],
   "cell_type": "code",
   "source": [
    "draw_profile(m, \"d\", bound=2)"
   ],
   "metadata": {},
   "execution_count": null
  },
  {
   "cell_type": "markdown",
   "source": [
    "Draw the profile plot for the parameter d"
   ],
   "metadata": {}
  },
  {
   "outputs": [],
   "cell_type": "code",
   "source": [
    "draw_mnprofile(m, \"d\", size=20)"
   ],
   "metadata": {},
   "execution_count": null
  },
  {
   "cell_type": "markdown",
   "source": [
    "## Summary\n",
    "In this example we have shown how to use the `Minuit2` module to fit a line model to some data and\n",
    "how to estimate the parameter uncertainties. We have also shown how to fit a polynomial model with\n",
    "a flexible number of parameters."
   ],
   "metadata": {}
  },
  {
   "cell_type": "markdown",
   "source": [
    "---\n",
    "\n",
    "*This notebook was generated using [Literate.jl](https://github.com/fredrikekre/Literate.jl).*"
   ],
   "metadata": {}
  }
 ],
 "nbformat_minor": 3,
 "metadata": {
  "language_info": {
   "file_extension": ".jl",
   "mimetype": "application/julia",
   "name": "julia",
   "version": "1.11.6"
  },
  "kernelspec": {
   "name": "julia-1.11",
   "display_name": "Julia 1.11.6",
   "language": "julia"
  }
 },
 "nbformat": 4
}
