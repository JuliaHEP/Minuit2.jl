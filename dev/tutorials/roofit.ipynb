{
 "cells": [
  {
   "cell_type": "markdown",
   "source": [
    "# RooFit Modelling\n",
    "\n",
    "A quick guide on how to use the `RooFit` module to perform fits."
   ],
   "metadata": {}
  },
  {
   "cell_type": "markdown",
   "source": [
    "Load the `Minuit2` module.\n",
    "We will also use the `Distributions`, `FHist` and `Plots` modules to define cost functions\n",
    "and display results."
   ],
   "metadata": {}
  },
  {
   "outputs": [],
   "cell_type": "code",
   "source": [
    "using Minuit2\n",
    "using Minuit2.RooFit        # Load the RooFit module\n",
    "using Plots                 # Plotting"
   ],
   "metadata": {},
   "execution_count": null
  },
  {
   "cell_type": "markdown",
   "source": [
    "## Define the model\n",
    "We define a model with two signal distributions and a background distribution.\n",
    "The model is defined as:\n",
    "\n",
    "$ \\text{pdf} = f_{\\text{bkg}} \\times \\text{bkg}(x,c) + (1-f_{\\text{bkg}}) \\times (f_{\\text{sig1}} \\times \\text{sig1}(x,m_1,s_1) + (1-f_{\\text{sig1}}) \\times \\text{sig2}(x,m_2,s_2)) $\n",
    "\n",
    "where:\n",
    "- `c` is the parameter of the background distribution,\n",
    "- `μ1`, `σ1`, 'μ2` and `σ2` are the parameters of the signal distributions,\n",
    "- `f_sig1` and `f_bkg` are the fractions of the signal and background distributions."
   ],
   "metadata": {}
  },
  {
   "outputs": [],
   "cell_type": "code",
   "source": [
    "x =  RealVar(:x, limits=(0., 10.), nbins=20)\n",
    "μ1 = RooFit.RealVar(:μ1, 3., limits=(0., 5.))\n",
    "σ1 = RooFit.RealVar(:σ1, .8, limits=(0.5, 3.))\n",
    "μ2 = RooFit.RealVar(:μ2, 6., limits=(5., 10.))\n",
    "σ2 = RooFit.RealVar(:σ2, 1., limits=(0.5, 3.))\n",
    "sig1 = RooFit.Gaussian(:sig1, x, μ1, σ1)\n",
    "sig2 = RooFit.Gaussian(:sig2, x, μ2, σ2)\n",
    "\n",
    "f_sig1 = RooFit.RealVar(:f_sig1, 0.5, limits=(0., 1.))\n",
    "sig = RooFit.AddPdf(:sig, sig1, sig2, f_sig1)\n",
    "\n",
    "c = RooFit.RealVar(:c, -0.5, limits=(-0.8, -0.2))\n",
    "bkg = RooFit.Exponential(:bkg, x, c)\n",
    "\n",
    "f_bkg = RooFit.RealVar(:f_bkg, 0.4, limits=(0., 1.))\n",
    "model =  RooFit.AddPdf(:model, bkg, sig, f_bkg)"
   ],
   "metadata": {},
   "execution_count": null
  },
  {
   "cell_type": "markdown",
   "source": [
    "Lets now generate some data"
   ],
   "metadata": {}
  },
  {
   "outputs": [],
   "cell_type": "code",
   "source": [
    "N = 2000\n",
    "data = RooFit.generate(model, N);"
   ],
   "metadata": {},
   "execution_count": null
  },
  {
   "cell_type": "markdown",
   "source": [
    "### Fit the data with UnbinnedNLL\n",
    "For this example, we will use the `UnbinnedNLL` cost function to fit the data.\n",
    "We will use the `Minuit` optimizer to minimize the cost function. The function `minuitkwargs`\n",
    "is used to randomize the initial parameters. We take a uniform distribution between -0.9 and 0.9\n",
    "times the parameter limits."
   ],
   "metadata": {}
  },
  {
   "outputs": [],
   "cell_type": "code",
   "source": [
    "cost = UnbinnedNLL(data, model.pdf)\n",
    "kwargs = RooFit.minuitkwargs(model, randomize=true)  # Randomize the initial parameters\n",
    "m = Minuit(cost; kwargs...)\n",
    "migrad!(m)"
   ],
   "metadata": {},
   "execution_count": null
  },
  {
   "cell_type": "markdown",
   "source": [
    "Visualize the results the results and the different components of the model. The `pdf` needs to be\n",
    "scaled to the number of events in the data and the bin widths."
   ],
   "metadata": {}
  },
  {
   "outputs": [],
   "cell_type": "code",
   "source": [
    "nbins = 50\n",
    "scale = N * (x.limits[2] - x.limits[1]) / nbins\n",
    "\n",
    "visualize(m, nbins=nbins)\n",
    "plot!(x-> model.pdf(x, c.value, μ1.value, σ1.value,μ2.value, σ2.value, f_sig1.value, f_bkg.value) * scale, x.limits..., label=\"truth\", linestyle=:dash)\n",
    "plot!(x-> bkg.pdf(x) * f_bkg.value * scale, x.limits..., label=\"bkg\", linestyle=:dash)\n",
    "plot!(x-> sig1.pdf(x) * f_sig1.value * (1-f_bkg.value) * scale, x.limits..., label=\"sig1\", linestyle=:dash)\n",
    "plot!(x-> sig2.pdf(x) * (1-f_sig1.value) * (1-f_bkg.value) * scale, x.limits..., label=\"sig2\", linestyle=:dash)"
   ],
   "metadata": {},
   "execution_count": null
  },
  {
   "cell_type": "markdown",
   "source": [
    "### Fit the data with BinnedNLL\n",
    "We do the same but this time using a binned cost function. We generate a histogram with the default\n",
    "number of bins defined in the variable `x`."
   ],
   "metadata": {}
  },
  {
   "outputs": [],
   "cell_type": "code",
   "source": [
    "N = 2000\n",
    "data = RooFit.generateBinned(model, N);"
   ],
   "metadata": {},
   "execution_count": null
  },
  {
   "cell_type": "markdown",
   "source": [
    "`data`in this case is a `Hist1D` object."
   ],
   "metadata": {}
  },
  {
   "outputs": [],
   "cell_type": "code",
   "source": [
    "plot(data, label=\"data\")"
   ],
   "metadata": {},
   "execution_count": null
  },
  {
   "cell_type": "markdown",
   "source": [
    "and fit the data with the `BinnedNLL` cost function."
   ],
   "metadata": {}
  },
  {
   "outputs": [],
   "cell_type": "code",
   "source": [
    "cost = BinnedNLL(data, model.pdf, use_pdf=:approximate)\n",
    "kwargs = RooFit.minuitkwargs(model, randomize=true)  # Randomize the initial parameters\n",
    "m = Minuit(cost; kwargs...)\n",
    "migrad!(m)"
   ],
   "metadata": {},
   "execution_count": null
  },
  {
   "cell_type": "markdown",
   "source": [
    "Visualize the results together with the truth parameters used to generate the data."
   ],
   "metadata": {}
  },
  {
   "outputs": [],
   "cell_type": "code",
   "source": [
    "scale = N * (x.limits[2] - x.limits[1]) / x.nbins\n",
    "visualize(m)\n",
    "plot!(x-> model.pdf(x, c.value, μ1.value, σ1.value,μ2.value, σ2.value, f_sig1.value, f_bkg.value) * scale, x.limits..., label=\"truth\", linestyle=:dash)"
   ],
   "metadata": {},
   "execution_count": null
  },
  {
   "cell_type": "markdown",
   "source": [
    "---\n",
    "\n",
    "*This notebook was generated using [Literate.jl](https://github.com/fredrikekre/Literate.jl).*"
   ],
   "metadata": {}
  }
 ],
 "nbformat_minor": 3,
 "metadata": {
  "language_info": {
   "file_extension": ".jl",
   "mimetype": "application/julia",
   "name": "julia",
   "version": "1.11.4"
  },
  "kernelspec": {
   "name": "julia-1.11",
   "display_name": "Julia 1.11.4",
   "language": "julia"
  }
 },
 "nbformat": 4
}
