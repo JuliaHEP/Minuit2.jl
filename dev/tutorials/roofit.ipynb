{
 "cells": [
  {
   "cell_type": "markdown",
   "source": [
    "# RooFit Modelling\n",
    "\n",
    "A quick guide on how to use the `RooFit` module to perform fits."
   ],
   "metadata": {}
  },
  {
   "cell_type": "markdown",
   "source": [
    "Load the `Minuit2` module.\n",
    "We will also use the `Distributions`, `FHist` and `Plots` modules to define cost functions\n",
    "and display results."
   ],
   "metadata": {}
  },
  {
   "outputs": [],
   "cell_type": "code",
   "source": [
    "using Minuit2\n",
    "using Minuit2.RooFit        # Load the RooFit module\n",
    "using Plots                 # Plotting\n",
    "theme(:boxed)"
   ],
   "metadata": {},
   "execution_count": null
  },
  {
   "cell_type": "markdown",
   "source": [
    "## RooFit Modelling\n",
    "The `RooFit` module is a powerful tool for defining and fitting models to data.\n",
    "It is based on the RooFit library from CERN and provides a Julia interface to it.\n",
    "\n",
    "Lets by something simple. We will define a model with a single Gaussian distribution and fit it to some data."
   ],
   "metadata": {}
  },
  {
   "outputs": [],
   "cell_type": "code",
   "source": [
    "x = RealVar(:x, 0., limits=(-5., 5.)) # Create a RooRealVar for x\n",
    "μ = RealVar(:μ, 0., limits=(-5., 5.)) # Create a RooRealVar for μ\n",
    "σ = RealVar(:σ, 1., limits=(0.1, 5.)) # Create a RooRealVar for σ\n",
    "gaus = Gaussian(:gaus, x, μ, σ) # Create a RooGaussian PDF"
   ],
   "metadata": {},
   "execution_count": null
  },
  {
   "cell_type": "markdown",
   "source": [
    "We can just plot the PDF with the default parameters."
   ],
   "metadata": {}
  },
  {
   "outputs": [],
   "cell_type": "code",
   "source": [
    "plot(gaus)"
   ],
   "metadata": {},
   "execution_count": null
  },
  {
   "cell_type": "markdown",
   "source": [
    "which is equivalent to the following code:\n",
    "```julia\n",
    "plot(x->gaus(x, (p.value for p in gaus.params)...), x.limits..., label=\"gaus\")\n",
    "```"
   ],
   "metadata": {}
  },
  {
   "cell_type": "markdown",
   "source": [
    "Lets now generate some data from the PDF."
   ],
   "metadata": {}
  },
  {
   "outputs": [],
   "cell_type": "code",
   "source": [
    "data = generate(gaus, 1000); # Generate 1000 observations from the model PDF"
   ],
   "metadata": {},
   "execution_count": null
  },
  {
   "cell_type": "markdown",
   "source": [
    "Lets fit the data with an `UnbinnedNLL` cost function. It returns a `Minuit` object."
   ],
   "metadata": {}
  },
  {
   "outputs": [],
   "cell_type": "code",
   "source": [
    "result = fitTo(gaus, data);"
   ],
   "metadata": {},
   "execution_count": null
  },
  {
   "cell_type": "markdown",
   "source": [
    "Lets now plot the data and the PDF with the fitted parameters."
   ],
   "metadata": {}
  },
  {
   "outputs": [],
   "cell_type": "code",
   "source": [
    "plot(result)"
   ],
   "metadata": {},
   "execution_count": null
  },
  {
   "cell_type": "markdown",
   "source": [
    "## Combining several PDFs to create a model\n",
    "Here is a first example of model defined in RooFit that is subsequently used for event generation, an\n",
    "unbinned maximum likelihood fit and plotting.\n",
    "\n",
    "### Define the model\n",
    "We define a model with a signal distribution (gaussian) and a background distribution (argus BG) combining\n",
    "them with the number of events in each category."
   ],
   "metadata": {}
  },
  {
   "outputs": [],
   "cell_type": "code",
   "source": [
    "##---Observable\n",
    "mes =  RealVar(:mes, 0.0, limits=(5.20, 5.30), nbins=30)\n",
    "\n",
    "##---Gaussian signal\n",
    "sigmean = RealVar(:sigmean, 5.28, limits=(5.20, 5.30))\n",
    "sigwidth = RealVar(:sigwidth, 0.0027, limits=(0.001, 0.1))\n",
    "sig = Gaussian(:sig, mes, sigmean, sigwidth)\n",
    "\n",
    "##---Build Argus background\n",
    "argpar = RealVar(:argpar, -20.0, limits=(-100., -1.))\n",
    "argus = ArgusPdf(:argus, mes, ConstVar(:m₀, 5.291), argpar)\n",
    "\n",
    "##---Build the model\n",
    "nsig = RealVar(:nsig, 200., limits=(0., 10000.))\n",
    "nbkg = RealVar(:nbkg, 800., limits=(0., 10000.))\n",
    "model = AddPdf(:model, [sig, argus], [nsig, nbkg])\n",
    "\n",
    "##--- Generate a toyMC sample from composite PDF ---\n",
    "data = generate(model, 2000)\n",
    "\n",
    "##--- Perform extended NLL fit ---\n",
    "result = fitTo(model, data);"
   ],
   "metadata": {},
   "execution_count": null
  },
  {
   "cell_type": "markdown",
   "source": [
    "### Visualize the results\n",
    "The `plot` function is used to plot the results of the fit. It takes the `Minuit` object as input\n",
    "and plots the data, the model and the fit results."
   ],
   "metadata": {}
  },
  {
   "outputs": [],
   "cell_type": "code",
   "source": [
    "plot(result; legend=:topleft)"
   ],
   "metadata": {},
   "execution_count": null
  },
  {
   "cell_type": "markdown",
   "source": [
    "We can also visualize the different components of the model overlaid on the data."
   ],
   "metadata": {}
  },
  {
   "outputs": [],
   "cell_type": "code",
   "source": [
    "plot(result, components=(:sig, :argus), legend=:topleft)"
   ],
   "metadata": {},
   "execution_count": null
  },
  {
   "cell_type": "markdown",
   "source": [
    "## Combining several PDFs to create a model sharing some variables\n",
    "We define a model with two signal distributions and a background distribution.\n",
    "The model is defined as:\n",
    "\n",
    "$\\text{pdf} = f_{\\text{bkg}} \\times \\text{bkg}(x,c) + (1-f_{\\text{bkg}}) \\times (f_{\\text{sig1}} \\times \\text{sig1}(x,m_1,s_1) + (1-f_{\\text{sig1}}) \\times \\text{sig2}(x,m_2,s_2)) $\n",
    "\n",
    "where:\n",
    "- `c` is the parameter of the background distribution,\n",
    "- `μ`, `σ1`, and `σ2` are the parameters of the signal distributions,\n",
    "- `f_sig1` and `f_bkg` are the fractions of the signal and background distributions."
   ],
   "metadata": {}
  },
  {
   "outputs": [],
   "cell_type": "code",
   "source": [
    "# Define the observable\n",
    "x =  RealVar(:x, 0., limits=(0., 10.), nbins=20)\n",
    "\n",
    "# Define the two signals with different widths\n",
    "μ = RooFit.RealVar(:μ, 3., limits=(0., 5.))\n",
    "σ1 = RooFit.RealVar(:σ1, .3, limits=(0., 3.))\n",
    "σ2 = RooFit.RealVar(:σ2, 1., limits=(0., 3.))\n",
    "sig1 = RooFit.Gaussian(:sig1, x, μ, σ1)\n",
    "sig2 = RooFit.Gaussian(:sig2, x, μ, σ2)\n",
    "\n",
    "# Define the background as an exponential function\n",
    "c = RooFit.RealVar(:c, -0.5, limits=(-0.8, -0.2))\n",
    "bkg = RooFit.Exponential(:bkg, x, c)\n",
    "\n",
    "# Define the model as the sum of the two signals and the background\n",
    "# The background is multiplied by a factor f_bkg, and the first signal by f_sig1\n",
    "f_bkg = RooFit.RealVar(:f_bkg, 0.4, limits=(0., 1.))\n",
    "f_sig1 = RooFit.RealVar(:f_sig1, 0.5, limits=(0., 1.))\n",
    "model =  RooFit.AddPdf(:model, [bkg, sig1, sig2], [f_bkg, f_sig1])"
   ],
   "metadata": {},
   "execution_count": null
  },
  {
   "cell_type": "markdown",
   "source": [
    "Lets now generate some data"
   ],
   "metadata": {}
  },
  {
   "outputs": [],
   "cell_type": "code",
   "source": [
    "N = 2000\n",
    "data = RooFit.generate(model, N);"
   ],
   "metadata": {},
   "execution_count": null
  },
  {
   "cell_type": "markdown",
   "source": [
    "### Fit the data with UnbinnedNLL\n",
    "For this example, we will use the `UnbinnedNLL` cost function to fit the data.\n",
    "We will use the `Minuit` optimizer to minimize the cost function."
   ],
   "metadata": {}
  },
  {
   "outputs": [],
   "cell_type": "code",
   "source": [
    "result = fitTo(model, data);"
   ],
   "metadata": {},
   "execution_count": null
  },
  {
   "cell_type": "markdown",
   "source": [
    "Visualize the results the results and the different components of the model. The `pdf` needs to be\n",
    "scaled to the number of events in the data and the bin widths and this is done automatically"
   ],
   "metadata": {}
  },
  {
   "outputs": [],
   "cell_type": "code",
   "source": [
    "plot(result)"
   ],
   "metadata": {},
   "execution_count": null
  },
  {
   "cell_type": "markdown",
   "source": [
    "We can also visualize the components of the overall model"
   ],
   "metadata": {}
  },
  {
   "outputs": [],
   "cell_type": "code",
   "source": [
    "plot(result, components=[:bkg, :sig1, :sig2], legend=:topright)"
   ],
   "metadata": {},
   "execution_count": null
  },
  {
   "cell_type": "markdown",
   "source": [
    "### Fit the data with BinnedNLL\n",
    "We do the same but this time using a binned cost function. We generate a histogram with the default\n",
    "number of bins defined in the variable `x`."
   ],
   "metadata": {}
  },
  {
   "outputs": [],
   "cell_type": "code",
   "source": [
    "N = 2000\n",
    "data = RooFit.generate(model, N, nbins=50);"
   ],
   "metadata": {},
   "execution_count": null
  },
  {
   "cell_type": "markdown",
   "source": [
    "The generated `data` in this case is directly an `Hist1D` object."
   ],
   "metadata": {}
  },
  {
   "outputs": [],
   "cell_type": "code",
   "source": [
    "plot(data.data, label=\"data\", c=:blue)"
   ],
   "metadata": {},
   "execution_count": null
  },
  {
   "cell_type": "markdown",
   "source": [
    "and fit the data with the `BinnedNLL` cost function."
   ],
   "metadata": {}
  },
  {
   "outputs": [],
   "cell_type": "code",
   "source": [
    "result = fitTo(model, data);"
   ],
   "metadata": {},
   "execution_count": null
  },
  {
   "cell_type": "markdown",
   "source": [
    "Visualize the results together with the components"
   ],
   "metadata": {}
  },
  {
   "outputs": [],
   "cell_type": "code",
   "source": [
    "plot(result, components=[:bkg, :sig1, :sig2], legend=:topright)"
   ],
   "metadata": {},
   "execution_count": null
  },
  {
   "cell_type": "markdown",
   "source": [
    "Finally we can also show the profile of the likelihood for the parameters of interest.\n",
    "The `draw_mncontour` function is used to plot the contours of the likelihood function in the parameter space."
   ],
   "metadata": {}
  },
  {
   "outputs": [],
   "cell_type": "code",
   "source": [
    "draw_mncontour(result.engine, :c, :μ)"
   ],
   "metadata": {},
   "execution_count": null
  },
  {
   "cell_type": "markdown",
   "source": [
    "---\n",
    "\n",
    "*This notebook was generated using [Literate.jl](https://github.com/fredrikekre/Literate.jl).*"
   ],
   "metadata": {}
  }
 ],
 "nbformat_minor": 3,
 "metadata": {
  "language_info": {
   "file_extension": ".jl",
   "mimetype": "application/julia",
   "name": "julia",
   "version": "1.11.4"
  },
  "kernelspec": {
   "name": "julia-1.11",
   "display_name": "Julia 1.11.4",
   "language": "julia"
  }
 },
 "nbformat": 4
}
